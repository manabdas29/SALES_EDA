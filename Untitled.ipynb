{
 "cells": [
  {
   "cell_type": "code",
   "execution_count": 1,
   "id": "46b18866",
   "metadata": {},
   "outputs": [],
   "source": [
    "import pandas as pd\n",
    "import numpy as np\n",
    "import matplotlib.pyplot as plt\n",
    "import seaborn as sns\n",
    "%matplotlib inline"
   ]
  },
  {
   "cell_type": "code",
   "execution_count": 2,
   "id": "4dc8db32",
   "metadata": {},
   "outputs": [],
   "source": [
    "df=pd.read_csv('sales_data.csv', encoding='iso-8859-1')"
   ]
  },
  {
   "cell_type": "code",
   "execution_count": 3,
   "id": "3b76d2fc",
   "metadata": {},
   "outputs": [
    {
     "data": {
      "text/plain": [
       "(2823, 25)"
      ]
     },
     "execution_count": 3,
     "metadata": {},
     "output_type": "execute_result"
    }
   ],
   "source": [
    "df.shape"
   ]
  },
  {
   "cell_type": "code",
   "execution_count": 4,
   "id": "b391d1db",
   "metadata": {},
   "outputs": [],
   "source": [
    "pd.set_option('display.max_columns',25)"
   ]
  },
  {
   "cell_type": "code",
   "execution_count": 5,
   "id": "5671d150",
   "metadata": {},
   "outputs": [
    {
     "data": {
      "text/html": [
       "<div>\n",
       "<style scoped>\n",
       "    .dataframe tbody tr th:only-of-type {\n",
       "        vertical-align: middle;\n",
       "    }\n",
       "\n",
       "    .dataframe tbody tr th {\n",
       "        vertical-align: top;\n",
       "    }\n",
       "\n",
       "    .dataframe thead th {\n",
       "        text-align: right;\n",
       "    }\n",
       "</style>\n",
       "<table border=\"1\" class=\"dataframe\">\n",
       "  <thead>\n",
       "    <tr style=\"text-align: right;\">\n",
       "      <th></th>\n",
       "      <th>ORDERNUMBER</th>\n",
       "      <th>QUANTITYORDERED</th>\n",
       "      <th>PRICEEACH</th>\n",
       "      <th>ORDERLINENUMBER</th>\n",
       "      <th>SALES</th>\n",
       "      <th>ORDERDATE</th>\n",
       "      <th>STATUS</th>\n",
       "      <th>QTR_ID</th>\n",
       "      <th>MONTH_ID</th>\n",
       "      <th>YEAR_ID</th>\n",
       "      <th>PRODUCTLINE</th>\n",
       "      <th>MSRP</th>\n",
       "      <th>PRODUCTCODE</th>\n",
       "      <th>CUSTOMERNAME</th>\n",
       "      <th>PHONE</th>\n",
       "      <th>ADDRESSLINE1</th>\n",
       "      <th>ADDRESSLINE2</th>\n",
       "      <th>CITY</th>\n",
       "      <th>STATE</th>\n",
       "      <th>POSTALCODE</th>\n",
       "      <th>COUNTRY</th>\n",
       "      <th>TERRITORY</th>\n",
       "      <th>CONTACTLASTNAME</th>\n",
       "      <th>CONTACTFIRSTNAME</th>\n",
       "      <th>DEALSIZE</th>\n",
       "    </tr>\n",
       "  </thead>\n",
       "  <tbody>\n",
       "    <tr>\n",
       "      <th>0</th>\n",
       "      <td>10107</td>\n",
       "      <td>30</td>\n",
       "      <td>95.70</td>\n",
       "      <td>2</td>\n",
       "      <td>2871.00</td>\n",
       "      <td>2/24/2003 0:00</td>\n",
       "      <td>Shipped</td>\n",
       "      <td>1</td>\n",
       "      <td>2</td>\n",
       "      <td>2003</td>\n",
       "      <td>Motorcycles</td>\n",
       "      <td>95</td>\n",
       "      <td>S10_1678</td>\n",
       "      <td>Land of Toys Inc.</td>\n",
       "      <td>2125557818</td>\n",
       "      <td>897 Long Airport Avenue</td>\n",
       "      <td>NaN</td>\n",
       "      <td>NYC</td>\n",
       "      <td>NY</td>\n",
       "      <td>10022</td>\n",
       "      <td>USA</td>\n",
       "      <td>NaN</td>\n",
       "      <td>Yu</td>\n",
       "      <td>Kwai</td>\n",
       "      <td>Small</td>\n",
       "    </tr>\n",
       "    <tr>\n",
       "      <th>1</th>\n",
       "      <td>10121</td>\n",
       "      <td>34</td>\n",
       "      <td>81.35</td>\n",
       "      <td>5</td>\n",
       "      <td>2765.90</td>\n",
       "      <td>05-07-2003 00:00</td>\n",
       "      <td>Shipped</td>\n",
       "      <td>2</td>\n",
       "      <td>5</td>\n",
       "      <td>2003</td>\n",
       "      <td>Motorcycles</td>\n",
       "      <td>95</td>\n",
       "      <td>S10_1678</td>\n",
       "      <td>Reims Collectables</td>\n",
       "      <td>26.47.1555</td>\n",
       "      <td>59 rue de l'Abbaye</td>\n",
       "      <td>NaN</td>\n",
       "      <td>Reims</td>\n",
       "      <td>NaN</td>\n",
       "      <td>51100</td>\n",
       "      <td>France</td>\n",
       "      <td>EMEA</td>\n",
       "      <td>Henriot</td>\n",
       "      <td>Paul</td>\n",
       "      <td>Small</td>\n",
       "    </tr>\n",
       "    <tr>\n",
       "      <th>2</th>\n",
       "      <td>10134</td>\n",
       "      <td>41</td>\n",
       "      <td>94.74</td>\n",
       "      <td>2</td>\n",
       "      <td>3884.34</td>\n",
       "      <td>07-01-2003 00:00</td>\n",
       "      <td>Shipped</td>\n",
       "      <td>3</td>\n",
       "      <td>7</td>\n",
       "      <td>2003</td>\n",
       "      <td>Motorcycles</td>\n",
       "      <td>95</td>\n",
       "      <td>S10_1678</td>\n",
       "      <td>Lyon Souveniers</td>\n",
       "      <td>+33 1 46 62 7555</td>\n",
       "      <td>27 rue du Colonel Pierre Avia</td>\n",
       "      <td>NaN</td>\n",
       "      <td>Paris</td>\n",
       "      <td>NaN</td>\n",
       "      <td>75508</td>\n",
       "      <td>France</td>\n",
       "      <td>EMEA</td>\n",
       "      <td>Da Cunha</td>\n",
       "      <td>Daniel</td>\n",
       "      <td>Medium</td>\n",
       "    </tr>\n",
       "    <tr>\n",
       "      <th>3</th>\n",
       "      <td>10145</td>\n",
       "      <td>45</td>\n",
       "      <td>83.26</td>\n",
       "      <td>6</td>\n",
       "      <td>3746.70</td>\n",
       "      <td>8/25/2003 0:00</td>\n",
       "      <td>Shipped</td>\n",
       "      <td>3</td>\n",
       "      <td>8</td>\n",
       "      <td>2003</td>\n",
       "      <td>Motorcycles</td>\n",
       "      <td>95</td>\n",
       "      <td>S10_1678</td>\n",
       "      <td>Toys4GrownUps.com</td>\n",
       "      <td>6265557265</td>\n",
       "      <td>78934 Hillside Dr.</td>\n",
       "      <td>NaN</td>\n",
       "      <td>Pasadena</td>\n",
       "      <td>CA</td>\n",
       "      <td>90003</td>\n",
       "      <td>USA</td>\n",
       "      <td>NaN</td>\n",
       "      <td>Young</td>\n",
       "      <td>Julie</td>\n",
       "      <td>Medium</td>\n",
       "    </tr>\n",
       "    <tr>\n",
       "      <th>4</th>\n",
       "      <td>10159</td>\n",
       "      <td>49</td>\n",
       "      <td>100.00</td>\n",
       "      <td>14</td>\n",
       "      <td>5205.27</td>\n",
       "      <td>10-10-2003 00:00</td>\n",
       "      <td>Shipped</td>\n",
       "      <td>4</td>\n",
       "      <td>10</td>\n",
       "      <td>2003</td>\n",
       "      <td>Motorcycles</td>\n",
       "      <td>95</td>\n",
       "      <td>S10_1678</td>\n",
       "      <td>Corporate Gift Ideas Co.</td>\n",
       "      <td>6505551386</td>\n",
       "      <td>7734 Strong St.</td>\n",
       "      <td>NaN</td>\n",
       "      <td>San Francisco</td>\n",
       "      <td>CA</td>\n",
       "      <td>NaN</td>\n",
       "      <td>USA</td>\n",
       "      <td>NaN</td>\n",
       "      <td>Brown</td>\n",
       "      <td>Julie</td>\n",
       "      <td>Medium</td>\n",
       "    </tr>\n",
       "  </tbody>\n",
       "</table>\n",
       "</div>"
      ],
      "text/plain": [
       "   ORDERNUMBER  QUANTITYORDERED  PRICEEACH  ORDERLINENUMBER    SALES  \\\n",
       "0        10107               30      95.70                2  2871.00   \n",
       "1        10121               34      81.35                5  2765.90   \n",
       "2        10134               41      94.74                2  3884.34   \n",
       "3        10145               45      83.26                6  3746.70   \n",
       "4        10159               49     100.00               14  5205.27   \n",
       "\n",
       "          ORDERDATE   STATUS  QTR_ID  MONTH_ID  YEAR_ID  PRODUCTLINE  MSRP  \\\n",
       "0    2/24/2003 0:00  Shipped       1         2     2003  Motorcycles    95   \n",
       "1  05-07-2003 00:00  Shipped       2         5     2003  Motorcycles    95   \n",
       "2  07-01-2003 00:00  Shipped       3         7     2003  Motorcycles    95   \n",
       "3    8/25/2003 0:00  Shipped       3         8     2003  Motorcycles    95   \n",
       "4  10-10-2003 00:00  Shipped       4        10     2003  Motorcycles    95   \n",
       "\n",
       "  PRODUCTCODE              CUSTOMERNAME             PHONE  \\\n",
       "0    S10_1678         Land of Toys Inc.        2125557818   \n",
       "1    S10_1678        Reims Collectables        26.47.1555   \n",
       "2    S10_1678           Lyon Souveniers  +33 1 46 62 7555   \n",
       "3    S10_1678         Toys4GrownUps.com        6265557265   \n",
       "4    S10_1678  Corporate Gift Ideas Co.        6505551386   \n",
       "\n",
       "                    ADDRESSLINE1 ADDRESSLINE2           CITY STATE POSTALCODE  \\\n",
       "0        897 Long Airport Avenue          NaN            NYC    NY      10022   \n",
       "1             59 rue de l'Abbaye          NaN          Reims   NaN      51100   \n",
       "2  27 rue du Colonel Pierre Avia          NaN          Paris   NaN      75508   \n",
       "3             78934 Hillside Dr.          NaN       Pasadena    CA      90003   \n",
       "4                7734 Strong St.          NaN  San Francisco    CA        NaN   \n",
       "\n",
       "  COUNTRY TERRITORY CONTACTLASTNAME CONTACTFIRSTNAME DEALSIZE  \n",
       "0     USA       NaN              Yu             Kwai    Small  \n",
       "1  France      EMEA         Henriot             Paul    Small  \n",
       "2  France      EMEA        Da Cunha           Daniel   Medium  \n",
       "3     USA       NaN           Young            Julie   Medium  \n",
       "4     USA       NaN           Brown            Julie   Medium  "
      ]
     },
     "execution_count": 5,
     "metadata": {},
     "output_type": "execute_result"
    }
   ],
   "source": [
    "df.head()"
   ]
  },
  {
   "cell_type": "code",
   "execution_count": 6,
   "id": "f0e6aefa",
   "metadata": {},
   "outputs": [
    {
     "data": {
      "text/plain": [
       "Index(['ORDERNUMBER', 'QUANTITYORDERED', 'PRICEEACH', 'ORDERLINENUMBER',\n",
       "       'SALES', 'ORDERDATE', 'STATUS', 'QTR_ID', 'MONTH_ID', 'YEAR_ID',\n",
       "       'PRODUCTLINE', 'MSRP', 'PRODUCTCODE', 'CUSTOMERNAME', 'PHONE',\n",
       "       'ADDRESSLINE1', 'ADDRESSLINE2', 'CITY', 'STATE', 'POSTALCODE',\n",
       "       'COUNTRY', 'TERRITORY', 'CONTACTLASTNAME', 'CONTACTFIRSTNAME',\n",
       "       'DEALSIZE'],\n",
       "      dtype='object')"
      ]
     },
     "execution_count": 6,
     "metadata": {},
     "output_type": "execute_result"
    }
   ],
   "source": [
    "df.columns"
   ]
  },
  {
   "cell_type": "code",
   "execution_count": 7,
   "id": "d778203c",
   "metadata": {},
   "outputs": [
    {
     "data": {
      "text/plain": [
       "0"
      ]
     },
     "execution_count": 7,
     "metadata": {},
     "output_type": "execute_result"
    }
   ],
   "source": [
    "#show if there is full duplicates \n",
    "df.duplicated().sum()"
   ]
  },
  {
   "cell_type": "code",
   "execution_count": 8,
   "id": "070e1d8c",
   "metadata": {},
   "outputs": [
    {
     "name": "stdout",
     "output_type": "stream",
     "text": [
      "<class 'pandas.core.frame.DataFrame'>\n",
      "RangeIndex: 2823 entries, 0 to 2822\n",
      "Data columns (total 25 columns):\n",
      " #   Column            Non-Null Count  Dtype  \n",
      "---  ------            --------------  -----  \n",
      " 0   ORDERNUMBER       2823 non-null   int64  \n",
      " 1   QUANTITYORDERED   2823 non-null   int64  \n",
      " 2   PRICEEACH         2822 non-null   float64\n",
      " 3   ORDERLINENUMBER   2823 non-null   int64  \n",
      " 4   SALES             2822 non-null   float64\n",
      " 5   ORDERDATE         2822 non-null   object \n",
      " 6   STATUS            2823 non-null   object \n",
      " 7   QTR_ID            2823 non-null   int64  \n",
      " 8   MONTH_ID          2823 non-null   int64  \n",
      " 9   YEAR_ID           2823 non-null   int64  \n",
      " 10  PRODUCTLINE       2819 non-null   object \n",
      " 11  MSRP              2823 non-null   int64  \n",
      " 12  PRODUCTCODE       2823 non-null   object \n",
      " 13  CUSTOMERNAME      2823 non-null   object \n",
      " 14  PHONE             2823 non-null   object \n",
      " 15  ADDRESSLINE1      2823 non-null   object \n",
      " 16  ADDRESSLINE2      302 non-null    object \n",
      " 17  CITY              2823 non-null   object \n",
      " 18  STATE             1337 non-null   object \n",
      " 19  POSTALCODE        2747 non-null   object \n",
      " 20  COUNTRY           2823 non-null   object \n",
      " 21  TERRITORY         1749 non-null   object \n",
      " 22  CONTACTLASTNAME   2823 non-null   object \n",
      " 23  CONTACTFIRSTNAME  2823 non-null   object \n",
      " 24  DEALSIZE          2823 non-null   object \n",
      "dtypes: float64(2), int64(7), object(16)\n",
      "memory usage: 551.5+ KB\n"
     ]
    }
   ],
   "source": [
    "df.info()"
   ]
  },
  {
   "cell_type": "code",
   "execution_count": 9,
   "id": "b286542b",
   "metadata": {},
   "outputs": [
    {
     "data": {
      "text/plain": [
       "ORDERNUMBER            0\n",
       "QUANTITYORDERED        0\n",
       "PRICEEACH              1\n",
       "ORDERLINENUMBER        0\n",
       "SALES                  1\n",
       "ORDERDATE              1\n",
       "STATUS                 0\n",
       "QTR_ID                 0\n",
       "MONTH_ID               0\n",
       "YEAR_ID                0\n",
       "PRODUCTLINE            4\n",
       "MSRP                   0\n",
       "PRODUCTCODE            0\n",
       "CUSTOMERNAME           0\n",
       "PHONE                  0\n",
       "ADDRESSLINE1           0\n",
       "ADDRESSLINE2        2521\n",
       "CITY                   0\n",
       "STATE               1486\n",
       "POSTALCODE            76\n",
       "COUNTRY                0\n",
       "TERRITORY           1074\n",
       "CONTACTLASTNAME        0\n",
       "CONTACTFIRSTNAME       0\n",
       "DEALSIZE               0\n",
       "dtype: int64"
      ]
     },
     "execution_count": 9,
     "metadata": {},
     "output_type": "execute_result"
    }
   ],
   "source": [
    "df.isnull().sum()"
   ]
  },
  {
   "cell_type": "markdown",
   "id": "82ea24df",
   "metadata": {},
   "source": [
    "# Conclusion\n",
    "\n",
    "1. The dataset has 2823 rows, 25 columns.\n",
    "2. We have null values so we need to clean the dataset.\n",
    "3. There is no full duplicates in the dataset.\n",
    "4. There are some useless columns (ORDERLINENUMBER,ORDERDATE, STATUS, PRODUCTCODE, PHONE, STATE, POSTALCODE, CONTACTFIRSTNAME, CONTACTLASTNAME,'ADDRESSLINE1','ADDRESSLINE2'), we can drop these columns."
   ]
  },
  {
   "cell_type": "markdown",
   "id": "39380c56",
   "metadata": {},
   "source": [
    "# Cleaning Dataset\n",
    "\n",
    "Drop the useless columns, which are not relevant and it may create confusion and complex the analysis process."
   ]
  },
  {
   "cell_type": "code",
   "execution_count": 10,
   "id": "f224c6fb",
   "metadata": {},
   "outputs": [],
   "source": [
    "df.drop(['ORDERLINENUMBER','ORDERDATE','STATUS','PRODUCTCODE','PHONE','STATE',\n",
    "         'POSTALCODE', 'TERRITORY', 'CONTACTFIRSTNAME', \n",
    "         'CONTACTLASTNAME','ADDRESSLINE1','ADDRESSLINE2'], axis=1, inplace=True)"
   ]
  },
  {
   "cell_type": "code",
   "execution_count": 11,
   "id": "c267cea5",
   "metadata": {},
   "outputs": [
    {
     "data": {
      "text/html": [
       "<div>\n",
       "<style scoped>\n",
       "    .dataframe tbody tr th:only-of-type {\n",
       "        vertical-align: middle;\n",
       "    }\n",
       "\n",
       "    .dataframe tbody tr th {\n",
       "        vertical-align: top;\n",
       "    }\n",
       "\n",
       "    .dataframe thead th {\n",
       "        text-align: right;\n",
       "    }\n",
       "</style>\n",
       "<table border=\"1\" class=\"dataframe\">\n",
       "  <thead>\n",
       "    <tr style=\"text-align: right;\">\n",
       "      <th></th>\n",
       "      <th>ORDERNUMBER</th>\n",
       "      <th>QUANTITYORDERED</th>\n",
       "      <th>PRICEEACH</th>\n",
       "      <th>SALES</th>\n",
       "      <th>QTR_ID</th>\n",
       "      <th>MONTH_ID</th>\n",
       "      <th>YEAR_ID</th>\n",
       "      <th>PRODUCTLINE</th>\n",
       "      <th>MSRP</th>\n",
       "      <th>CUSTOMERNAME</th>\n",
       "      <th>CITY</th>\n",
       "      <th>COUNTRY</th>\n",
       "      <th>DEALSIZE</th>\n",
       "    </tr>\n",
       "  </thead>\n",
       "  <tbody>\n",
       "    <tr>\n",
       "      <th>0</th>\n",
       "      <td>10107</td>\n",
       "      <td>30</td>\n",
       "      <td>95.70</td>\n",
       "      <td>2871.00</td>\n",
       "      <td>1</td>\n",
       "      <td>2</td>\n",
       "      <td>2003</td>\n",
       "      <td>Motorcycles</td>\n",
       "      <td>95</td>\n",
       "      <td>Land of Toys Inc.</td>\n",
       "      <td>NYC</td>\n",
       "      <td>USA</td>\n",
       "      <td>Small</td>\n",
       "    </tr>\n",
       "    <tr>\n",
       "      <th>1</th>\n",
       "      <td>10121</td>\n",
       "      <td>34</td>\n",
       "      <td>81.35</td>\n",
       "      <td>2765.90</td>\n",
       "      <td>2</td>\n",
       "      <td>5</td>\n",
       "      <td>2003</td>\n",
       "      <td>Motorcycles</td>\n",
       "      <td>95</td>\n",
       "      <td>Reims Collectables</td>\n",
       "      <td>Reims</td>\n",
       "      <td>France</td>\n",
       "      <td>Small</td>\n",
       "    </tr>\n",
       "    <tr>\n",
       "      <th>2</th>\n",
       "      <td>10134</td>\n",
       "      <td>41</td>\n",
       "      <td>94.74</td>\n",
       "      <td>3884.34</td>\n",
       "      <td>3</td>\n",
       "      <td>7</td>\n",
       "      <td>2003</td>\n",
       "      <td>Motorcycles</td>\n",
       "      <td>95</td>\n",
       "      <td>Lyon Souveniers</td>\n",
       "      <td>Paris</td>\n",
       "      <td>France</td>\n",
       "      <td>Medium</td>\n",
       "    </tr>\n",
       "    <tr>\n",
       "      <th>3</th>\n",
       "      <td>10145</td>\n",
       "      <td>45</td>\n",
       "      <td>83.26</td>\n",
       "      <td>3746.70</td>\n",
       "      <td>3</td>\n",
       "      <td>8</td>\n",
       "      <td>2003</td>\n",
       "      <td>Motorcycles</td>\n",
       "      <td>95</td>\n",
       "      <td>Toys4GrownUps.com</td>\n",
       "      <td>Pasadena</td>\n",
       "      <td>USA</td>\n",
       "      <td>Medium</td>\n",
       "    </tr>\n",
       "    <tr>\n",
       "      <th>4</th>\n",
       "      <td>10159</td>\n",
       "      <td>49</td>\n",
       "      <td>100.00</td>\n",
       "      <td>5205.27</td>\n",
       "      <td>4</td>\n",
       "      <td>10</td>\n",
       "      <td>2003</td>\n",
       "      <td>Motorcycles</td>\n",
       "      <td>95</td>\n",
       "      <td>Corporate Gift Ideas Co.</td>\n",
       "      <td>San Francisco</td>\n",
       "      <td>USA</td>\n",
       "      <td>Medium</td>\n",
       "    </tr>\n",
       "  </tbody>\n",
       "</table>\n",
       "</div>"
      ],
      "text/plain": [
       "   ORDERNUMBER  QUANTITYORDERED  PRICEEACH    SALES  QTR_ID  MONTH_ID  \\\n",
       "0        10107               30      95.70  2871.00       1         2   \n",
       "1        10121               34      81.35  2765.90       2         5   \n",
       "2        10134               41      94.74  3884.34       3         7   \n",
       "3        10145               45      83.26  3746.70       3         8   \n",
       "4        10159               49     100.00  5205.27       4        10   \n",
       "\n",
       "   YEAR_ID  PRODUCTLINE  MSRP              CUSTOMERNAME           CITY  \\\n",
       "0     2003  Motorcycles    95         Land of Toys Inc.            NYC   \n",
       "1     2003  Motorcycles    95        Reims Collectables          Reims   \n",
       "2     2003  Motorcycles    95           Lyon Souveniers          Paris   \n",
       "3     2003  Motorcycles    95         Toys4GrownUps.com       Pasadena   \n",
       "4     2003  Motorcycles    95  Corporate Gift Ideas Co.  San Francisco   \n",
       "\n",
       "  COUNTRY DEALSIZE  \n",
       "0     USA    Small  \n",
       "1  France    Small  \n",
       "2  France   Medium  \n",
       "3     USA   Medium  \n",
       "4     USA   Medium  "
      ]
     },
     "execution_count": 11,
     "metadata": {},
     "output_type": "execute_result"
    }
   ],
   "source": [
    "df.head()"
   ]
  },
  {
   "cell_type": "code",
   "execution_count": 12,
   "id": "b16412fe",
   "metadata": {},
   "outputs": [
    {
     "data": {
      "text/plain": [
       "ORDERNUMBER        0\n",
       "QUANTITYORDERED    0\n",
       "PRICEEACH          1\n",
       "SALES              1\n",
       "QTR_ID             0\n",
       "MONTH_ID           0\n",
       "YEAR_ID            0\n",
       "PRODUCTLINE        4\n",
       "MSRP               0\n",
       "CUSTOMERNAME       0\n",
       "CITY               0\n",
       "COUNTRY            0\n",
       "DEALSIZE           0\n",
       "dtype: int64"
      ]
     },
     "execution_count": 12,
     "metadata": {},
     "output_type": "execute_result"
    }
   ],
   "source": [
    "df.isnull().sum()"
   ]
  },
  {
   "cell_type": "code",
   "execution_count": 13,
   "id": "4599a655",
   "metadata": {},
   "outputs": [],
   "source": [
    "# Generate summary statistics\n",
    "summary = df.describe()"
   ]
  },
  {
   "cell_type": "code",
   "execution_count": 15,
   "id": "09b70b95",
   "metadata": {},
   "outputs": [
    {
     "data": {
      "text/html": [
       "<div>\n",
       "<style scoped>\n",
       "    .dataframe tbody tr th:only-of-type {\n",
       "        vertical-align: middle;\n",
       "    }\n",
       "\n",
       "    .dataframe tbody tr th {\n",
       "        vertical-align: top;\n",
       "    }\n",
       "\n",
       "    .dataframe thead th {\n",
       "        text-align: right;\n",
       "    }\n",
       "</style>\n",
       "<table border=\"1\" class=\"dataframe\">\n",
       "  <thead>\n",
       "    <tr style=\"text-align: right;\">\n",
       "      <th></th>\n",
       "      <th>ORDERNUMBER</th>\n",
       "      <th>QUANTITYORDERED</th>\n",
       "      <th>PRICEEACH</th>\n",
       "      <th>SALES</th>\n",
       "      <th>QTR_ID</th>\n",
       "      <th>MONTH_ID</th>\n",
       "      <th>YEAR_ID</th>\n",
       "      <th>MSRP</th>\n",
       "    </tr>\n",
       "  </thead>\n",
       "  <tbody>\n",
       "    <tr>\n",
       "      <th>count</th>\n",
       "      <td>2823.000000</td>\n",
       "      <td>2823.000000</td>\n",
       "      <td>2822.000000</td>\n",
       "      <td>2822.000000</td>\n",
       "      <td>2823.000000</td>\n",
       "      <td>2823.000000</td>\n",
       "      <td>2823.00000</td>\n",
       "      <td>2823.000000</td>\n",
       "    </tr>\n",
       "    <tr>\n",
       "      <th>mean</th>\n",
       "      <td>10258.725115</td>\n",
       "      <td>35.029047</td>\n",
       "      <td>84.257757</td>\n",
       "      <td>3561.475865</td>\n",
       "      <td>2.717676</td>\n",
       "      <td>7.092455</td>\n",
       "      <td>2003.81509</td>\n",
       "      <td>100.715551</td>\n",
       "    </tr>\n",
       "    <tr>\n",
       "      <th>std</th>\n",
       "      <td>92.085478</td>\n",
       "      <td>9.968370</td>\n",
       "      <td>41.470720</td>\n",
       "      <td>1883.146233</td>\n",
       "      <td>1.203878</td>\n",
       "      <td>3.656633</td>\n",
       "      <td>0.69967</td>\n",
       "      <td>40.187912</td>\n",
       "    </tr>\n",
       "    <tr>\n",
       "      <th>min</th>\n",
       "      <td>10100.000000</td>\n",
       "      <td>-45.000000</td>\n",
       "      <td>-96.340000</td>\n",
       "      <td>482.130000</td>\n",
       "      <td>1.000000</td>\n",
       "      <td>1.000000</td>\n",
       "      <td>2003.00000</td>\n",
       "      <td>33.000000</td>\n",
       "    </tr>\n",
       "    <tr>\n",
       "      <th>25%</th>\n",
       "      <td>10180.000000</td>\n",
       "      <td>27.000000</td>\n",
       "      <td>68.785000</td>\n",
       "      <td>2203.270000</td>\n",
       "      <td>2.000000</td>\n",
       "      <td>4.000000</td>\n",
       "      <td>2003.00000</td>\n",
       "      <td>68.000000</td>\n",
       "    </tr>\n",
       "    <tr>\n",
       "      <th>50%</th>\n",
       "      <td>10262.000000</td>\n",
       "      <td>35.000000</td>\n",
       "      <td>95.620000</td>\n",
       "      <td>3184.800000</td>\n",
       "      <td>3.000000</td>\n",
       "      <td>8.000000</td>\n",
       "      <td>2004.00000</td>\n",
       "      <td>99.000000</td>\n",
       "    </tr>\n",
       "    <tr>\n",
       "      <th>75%</th>\n",
       "      <td>10333.500000</td>\n",
       "      <td>43.000000</td>\n",
       "      <td>100.000000</td>\n",
       "      <td>4508.810000</td>\n",
       "      <td>4.000000</td>\n",
       "      <td>11.000000</td>\n",
       "      <td>2004.00000</td>\n",
       "      <td>124.000000</td>\n",
       "    </tr>\n",
       "    <tr>\n",
       "      <th>max</th>\n",
       "      <td>10425.000000</td>\n",
       "      <td>97.000000</td>\n",
       "      <td>2000.000000</td>\n",
       "      <td>24339.570000</td>\n",
       "      <td>4.000000</td>\n",
       "      <td>12.000000</td>\n",
       "      <td>2005.00000</td>\n",
       "      <td>214.000000</td>\n",
       "    </tr>\n",
       "  </tbody>\n",
       "</table>\n",
       "</div>"
      ],
      "text/plain": [
       "        ORDERNUMBER  QUANTITYORDERED    PRICEEACH         SALES       QTR_ID  \\\n",
       "count   2823.000000      2823.000000  2822.000000   2822.000000  2823.000000   \n",
       "mean   10258.725115        35.029047    84.257757   3561.475865     2.717676   \n",
       "std       92.085478         9.968370    41.470720   1883.146233     1.203878   \n",
       "min    10100.000000       -45.000000   -96.340000    482.130000     1.000000   \n",
       "25%    10180.000000        27.000000    68.785000   2203.270000     2.000000   \n",
       "50%    10262.000000        35.000000    95.620000   3184.800000     3.000000   \n",
       "75%    10333.500000        43.000000   100.000000   4508.810000     4.000000   \n",
       "max    10425.000000        97.000000  2000.000000  24339.570000     4.000000   \n",
       "\n",
       "          MONTH_ID     YEAR_ID         MSRP  \n",
       "count  2823.000000  2823.00000  2823.000000  \n",
       "mean      7.092455  2003.81509   100.715551  \n",
       "std       3.656633     0.69967    40.187912  \n",
       "min       1.000000  2003.00000    33.000000  \n",
       "25%       4.000000  2003.00000    68.000000  \n",
       "50%       8.000000  2004.00000    99.000000  \n",
       "75%      11.000000  2004.00000   124.000000  \n",
       "max      12.000000  2005.00000   214.000000  "
      ]
     },
     "execution_count": 15,
     "metadata": {},
     "output_type": "execute_result"
    }
   ],
   "source": [
    "summary"
   ]
  },
  {
   "cell_type": "code",
   "execution_count": 16,
   "id": "5e80c220",
   "metadata": {},
   "outputs": [],
   "source": [
    "# Calculate the IQR for each column\n",
    "q1 = summary.loc['25%']\n",
    "q3 = summary.loc['75%']\n",
    "iqr = q3 - q1"
   ]
  },
  {
   "cell_type": "code",
   "execution_count": 17,
   "id": "1ec7715b",
   "metadata": {},
   "outputs": [],
   "source": [
    "# Identify outliers\n",
    "outliers = ((df < (q1 - 1.5 * iqr)) | (df > (q3 + 1.5 * iqr))).any()"
   ]
  },
  {
   "cell_type": "code",
   "execution_count": 18,
   "id": "a58dec51",
   "metadata": {},
   "outputs": [
    {
     "name": "stdout",
     "output_type": "stream",
     "text": [
      "Outliers:\n",
      "CITY               False\n",
      "COUNTRY            False\n",
      "CUSTOMERNAME       False\n",
      "DEALSIZE           False\n",
      "MONTH_ID           False\n",
      "MSRP                True\n",
      "ORDERNUMBER        False\n",
      "PRICEEACH           True\n",
      "PRODUCTLINE        False\n",
      "QTR_ID             False\n",
      "QUANTITYORDERED     True\n",
      "SALES               True\n",
      "YEAR_ID            False\n",
      "dtype: bool\n"
     ]
    }
   ],
   "source": [
    "print('Outliers:')\n",
    "print(outliers)"
   ]
  },
  {
   "cell_type": "markdown",
   "id": "ae42e06e",
   "metadata": {},
   "source": [
    "# Clean NA values from PRICEEACH column"
   ]
  },
  {
   "cell_type": "code",
   "execution_count": 19,
   "id": "8bdbd124",
   "metadata": {},
   "outputs": [
    {
     "data": {
      "text/plain": [
       "Text(0, 0.5, 'PRICEEACH')"
      ]
     },
     "execution_count": 19,
     "metadata": {},
     "output_type": "execute_result"
    },
    {
     "data": {
      "image/png": "[encoded data removed]",
      "text/plain": [
       "<Figure size 640x480 with 1 Axes>"
      ]
     },
     "metadata": {},
     "output_type": "display_data"
    }
   ],
   "source": [
    "plt.scatter(df['ORDERNUMBER'],df['PRICEEACH'])\n",
    "plt.title('ORDERNUMBER vs PRICEEACH')\n",
    "plt.xlabel('ORDERNUMBER')\n",
    "plt.ylabel('PRICEEACH')"
   ]
  },
  {
   "cell_type": "markdown",
   "id": "4ad5617f",
   "metadata": {},
   "source": [
    "\n",
    "We use trimmed mean, which is calculated by removing a certain percentage of the highest and lowest values in the data and then calculating the mean of the remaining values, and use it as NA value."
   ]
  },
  {
   "cell_type": "code",
   "execution_count": 20,
   "id": "549712e7",
   "metadata": {},
   "outputs": [],
   "source": [
    "# Calculate the trimmed mean\n",
    "from scipy.stats import trim_mean\n",
    "trimmed_mean = trim_mean(df['PRICEEACH'], proportiontocut=0.1) # it removed 10% of the highest and lowest value"
   ]
  },
  {
   "cell_type": "code",
   "execution_count": 21,
   "id": "d89b1ded",
   "metadata": {},
   "outputs": [],
   "source": [
    "# Replace NA values with trimmed mean\n",
    "df['PRICEEACH'].fillna(trimmed_mean, inplace=True)"
   ]
  },
  {
   "cell_type": "markdown",
   "id": "734a4077",
   "metadata": {},
   "source": [
    "# Clean NA values from SALES column"
   ]
  },
  {
   "cell_type": "code",
   "execution_count": 22,
   "id": "0d1352b4",
   "metadata": {},
   "outputs": [
    {
     "data": {
      "text/plain": [
       "Text(0, 0.5, 'SALES')"
      ]
     },
     "execution_count": 22,
     "metadata": {},
     "output_type": "execute_result"
    },
    {
     "data": {
      "image/png": "[encoded data removed]",
      "text/plain": [
       "<Figure size 640x480 with 1 Axes>"
      ]
     },
     "metadata": {},
     "output_type": "display_data"
    }
   ],
   "source": [
    "plt.scatter(df['ORDERNUMBER'],df['SALES'])\n",
    "plt.title('ORDERNUMBER vs SALES')\n",
    "plt.xlabel('ORDERNUMBER')\n",
    "plt.ylabel('SALES')"
   ]
  },
  {
   "cell_type": "markdown",
   "id": "4fd69e0d",
   "metadata": {},
   "source": [
    "\n",
    "As the outlier is present in SALES column, so we use mode to replace the NA value."
   ]
  },
  {
   "cell_type": "code",
   "execution_count": 23,
   "id": "9e3f4889",
   "metadata": {},
   "outputs": [],
   "source": [
    "# Replace NA values with mode\n",
    "mode = df['SALES'].mode()[0]  # Calculate the mode"
   ]
  },
  {
   "cell_type": "code",
   "execution_count": 24,
   "id": "88ccb273",
   "metadata": {},
   "outputs": [],
   "source": [
    "# Replace NA values with mode\n",
    "df['SALES'].fillna(mode, inplace=True)"
   ]
  },
  {
   "cell_type": "markdown",
   "id": "ad7246aa",
   "metadata": {},
   "source": [
    "# Clean NA value from PRODUCTLINE"
   ]
  },
  {
   "cell_type": "code",
   "execution_count": 25,
   "id": "9d3ab4db",
   "metadata": {},
   "outputs": [
    {
     "data": {
      "text/plain": [
       "array(['Motorcycles', 'Classic Cars', nan, 'Trucks and Buses',\n",
       "       'Vintage Cars', 'Planes', 'Ships', 'Trains'], dtype=object)"
      ]
     },
     "execution_count": 25,
     "metadata": {},
     "output_type": "execute_result"
    }
   ],
   "source": [
    "df['PRODUCTLINE'].unique()"
   ]
  },
  {
   "cell_type": "markdown",
   "id": "ccc18460",
   "metadata": {},
   "source": [
    "# AS PRODUCTLINE has catagorical values, so we replace it's NA values with it's mode."
   ]
  },
  {
   "cell_type": "code",
   "execution_count": 26,
   "id": "2acb37d2",
   "metadata": {},
   "outputs": [],
   "source": [
    "mode_val_prod=df['PRODUCTLINE'].mode()[0]"
   ]
  },
  {
   "cell_type": "code",
   "execution_count": 27,
   "id": "1097b23f",
   "metadata": {},
   "outputs": [],
   "source": [
    "df['PRODUCTLINE'].fillna(mode_val_prod, inplace=True)"
   ]
  },
  {
   "cell_type": "markdown",
   "id": "7b0f45f1",
   "metadata": {},
   "source": [
    "# Replace Outliers from each columns with their mode value."
   ]
  },
  {
   "cell_type": "code",
   "execution_count": 28,
   "id": "bfd7cf60",
   "metadata": {},
   "outputs": [
    {
     "data": {
      "text/html": [
       "<div>\n",
       "<style scoped>\n",
       "    .dataframe tbody tr th:only-of-type {\n",
       "        vertical-align: middle;\n",
       "    }\n",
       "\n",
       "    .dataframe tbody tr th {\n",
       "        vertical-align: top;\n",
       "    }\n",
       "\n",
       "    .dataframe thead th {\n",
       "        text-align: right;\n",
       "    }\n",
       "</style>\n",
       "<table border=\"1\" class=\"dataframe\">\n",
       "  <thead>\n",
       "    <tr style=\"text-align: right;\">\n",
       "      <th></th>\n",
       "      <th>ORDERNUMBER</th>\n",
       "      <th>QUANTITYORDERED</th>\n",
       "      <th>PRICEEACH</th>\n",
       "      <th>SALES</th>\n",
       "      <th>QTR_ID</th>\n",
       "      <th>MONTH_ID</th>\n",
       "      <th>YEAR_ID</th>\n",
       "      <th>MSRP</th>\n",
       "    </tr>\n",
       "  </thead>\n",
       "  <tbody>\n",
       "    <tr>\n",
       "      <th>count</th>\n",
       "      <td>2823.000000</td>\n",
       "      <td>2823.000000</td>\n",
       "      <td>2823.000000</td>\n",
       "      <td>2823.000000</td>\n",
       "      <td>2823.000000</td>\n",
       "      <td>2823.000000</td>\n",
       "      <td>2823.00000</td>\n",
       "      <td>2823.000000</td>\n",
       "    </tr>\n",
       "    <tr>\n",
       "      <th>mean</th>\n",
       "      <td>10258.725115</td>\n",
       "      <td>35.029047</td>\n",
       "      <td>84.258655</td>\n",
       "      <td>3561.278034</td>\n",
       "      <td>2.717676</td>\n",
       "      <td>7.092455</td>\n",
       "      <td>2003.81509</td>\n",
       "      <td>100.715551</td>\n",
       "    </tr>\n",
       "    <tr>\n",
       "      <th>std</th>\n",
       "      <td>92.085478</td>\n",
       "      <td>9.968370</td>\n",
       "      <td>41.463399</td>\n",
       "      <td>1882.841888</td>\n",
       "      <td>1.203878</td>\n",
       "      <td>3.656633</td>\n",
       "      <td>0.69967</td>\n",
       "      <td>40.187912</td>\n",
       "    </tr>\n",
       "    <tr>\n",
       "      <th>min</th>\n",
       "      <td>10100.000000</td>\n",
       "      <td>-45.000000</td>\n",
       "      <td>-96.340000</td>\n",
       "      <td>482.130000</td>\n",
       "      <td>1.000000</td>\n",
       "      <td>1.000000</td>\n",
       "      <td>2003.00000</td>\n",
       "      <td>33.000000</td>\n",
       "    </tr>\n",
       "    <tr>\n",
       "      <th>25%</th>\n",
       "      <td>10180.000000</td>\n",
       "      <td>27.000000</td>\n",
       "      <td>68.790000</td>\n",
       "      <td>2203.430000</td>\n",
       "      <td>2.000000</td>\n",
       "      <td>4.000000</td>\n",
       "      <td>2003.00000</td>\n",
       "      <td>68.000000</td>\n",
       "    </tr>\n",
       "    <tr>\n",
       "      <th>50%</th>\n",
       "      <td>10262.000000</td>\n",
       "      <td>35.000000</td>\n",
       "      <td>95.550000</td>\n",
       "      <td>3184.800000</td>\n",
       "      <td>3.000000</td>\n",
       "      <td>8.000000</td>\n",
       "      <td>2004.00000</td>\n",
       "      <td>99.000000</td>\n",
       "    </tr>\n",
       "    <tr>\n",
       "      <th>75%</th>\n",
       "      <td>10333.500000</td>\n",
       "      <td>43.000000</td>\n",
       "      <td>100.000000</td>\n",
       "      <td>4508.540000</td>\n",
       "      <td>4.000000</td>\n",
       "      <td>11.000000</td>\n",
       "      <td>2004.00000</td>\n",
       "      <td>124.000000</td>\n",
       "    </tr>\n",
       "    <tr>\n",
       "      <th>max</th>\n",
       "      <td>10425.000000</td>\n",
       "      <td>97.000000</td>\n",
       "      <td>2000.000000</td>\n",
       "      <td>24339.570000</td>\n",
       "      <td>4.000000</td>\n",
       "      <td>12.000000</td>\n",
       "      <td>2005.00000</td>\n",
       "      <td>214.000000</td>\n",
       "    </tr>\n",
       "  </tbody>\n",
       "</table>\n",
       "</div>"
      ],
      "text/plain": [
       "        ORDERNUMBER  QUANTITYORDERED    PRICEEACH         SALES       QTR_ID  \\\n",
       "count   2823.000000      2823.000000  2823.000000   2823.000000  2823.000000   \n",
       "mean   10258.725115        35.029047    84.258655   3561.278034     2.717676   \n",
       "std       92.085478         9.968370    41.463399   1882.841888     1.203878   \n",
       "min    10100.000000       -45.000000   -96.340000    482.130000     1.000000   \n",
       "25%    10180.000000        27.000000    68.790000   2203.430000     2.000000   \n",
       "50%    10262.000000        35.000000    95.550000   3184.800000     3.000000   \n",
       "75%    10333.500000        43.000000   100.000000   4508.540000     4.000000   \n",
       "max    10425.000000        97.000000  2000.000000  24339.570000     4.000000   \n",
       "\n",
       "          MONTH_ID     YEAR_ID         MSRP  \n",
       "count  2823.000000  2823.00000  2823.000000  \n",
       "mean      7.092455  2003.81509   100.715551  \n",
       "std       3.656633     0.69967    40.187912  \n",
       "min       1.000000  2003.00000    33.000000  \n",
       "25%       4.000000  2003.00000    68.000000  \n",
       "50%       8.000000  2004.00000    99.000000  \n",
       "75%      11.000000  2004.00000   124.000000  \n",
       "max      12.000000  2005.00000   214.000000  "
      ]
     },
     "execution_count": 28,
     "metadata": {},
     "output_type": "execute_result"
    }
   ],
   "source": [
    "df.describe()"
   ]
  },
  {
   "cell_type": "markdown",
   "id": "901b5182",
   "metadata": {},
   "source": [
    "Replace outliers from SALES"
   ]
  },
  {
   "cell_type": "code",
   "execution_count": 29,
   "id": "0b3e78cc",
   "metadata": {},
   "outputs": [],
   "source": [
    "# Calculate the IQR(it is the difference between the 3rd and 1st quartile) \n",
    "q1 = df['SALES'].quantile(0.25)\n",
    "q3 = df['SALES'].quantile(0.75)\n",
    "iqr = q3 - q1"
   ]
  },
  {
   "cell_type": "code",
   "execution_count": 30,
   "id": "52bc688c",
   "metadata": {},
   "outputs": [],
   "source": [
    "# Identify the outlier values\n",
    "outliers = (df['SALES'] < q1 - 1.5 * iqr) | (df['SALES'] > q3 + 1.5 * iqr)"
   ]
  },
  {
   "cell_type": "code",
   "execution_count": 31,
   "id": "a9ae1adb",
   "metadata": {},
   "outputs": [],
   "source": [
    "# Replace the outlier values with the mode value of the column\n",
    "from scipy.stats import mode as sp_mode\n",
    "mode_val = sp_mode(df['SALES'])[0][0] #sp_mode is used here because it return a single mode value.\n",
    "df.loc[outliers, 'SALES'] = mode_val"
   ]
  },
  {
   "cell_type": "markdown",
   "id": "db5877c5",
   "metadata": {},
   "source": [
    "Replace outliers from PRICEEACH"
   ]
  },
  {
   "cell_type": "code",
   "execution_count": 32,
   "id": "e5223130",
   "metadata": {},
   "outputs": [],
   "source": [
    "# Calculate the IQR \n",
    "q1 = df['PRICEEACH'].quantile(0.25)\n",
    "q3 = df['PRICEEACH'].quantile(0.75)\n",
    "iqr = q3 - q1"
   ]
  },
  {
   "cell_type": "code",
   "execution_count": 33,
   "id": "784efcf3",
   "metadata": {},
   "outputs": [],
   "source": [
    "# Identify the outlier values\n",
    "outliers = (df['PRICEEACH'] < q1 - 1.5 * iqr) | (df['PRICEEACH'] > q3 + 1.5 * iqr)"
   ]
  },
  {
   "cell_type": "code",
   "execution_count": 34,
   "id": "b37316b4",
   "metadata": {},
   "outputs": [],
   "source": [
    "# Replace the outlier values with the mode value of the column\n",
    "mode_val = sp_mode(df['PRICEEACH'])[0][0]\n",
    "df.loc[outliers, 'PRICEEACH'] = mode_val"
   ]
  },
  {
   "cell_type": "markdown",
   "id": "d54e485a",
   "metadata": {},
   "source": [
    "Replace outliers from QUANTITYORDERED"
   ]
  },
  {
   "cell_type": "code",
   "execution_count": 35,
   "id": "1b798677",
   "metadata": {},
   "outputs": [],
   "source": [
    "# Calculate the IQR \n",
    "q1 = df['QUANTITYORDERED'].quantile(0.25)\n",
    "q3 = df['QUANTITYORDERED'].quantile(0.75)\n",
    "iqr = q3 - q1"
   ]
  },
  {
   "cell_type": "code",
   "execution_count": 36,
   "id": "3f35d662",
   "metadata": {},
   "outputs": [],
   "source": [
    "# Identify the outlier values\n",
    "outliers = (df['QUANTITYORDERED'] < q1 - 1.5 * iqr) | (df['QUANTITYORDERED'] > q3 + 1.5 * iqr)"
   ]
  },
  {
   "cell_type": "code",
   "execution_count": 37,
   "id": "195bf186",
   "metadata": {},
   "outputs": [],
   "source": [
    "# Replace the outlier values with the mode value of the column\n",
    "mode_val = sp_mode(df['QUANTITYORDERED'])[0][0]\n",
    "df.loc[outliers, 'QUANTITYORDERED'] = mode_val"
   ]
  },
  {
   "cell_type": "markdown",
   "id": "a2f218fd",
   "metadata": {},
   "source": [
    "Replace outliers from MSRP"
   ]
  },
  {
   "cell_type": "code",
   "execution_count": 38,
   "id": "f5920e59",
   "metadata": {},
   "outputs": [],
   "source": [
    "# Calculate the IQR \n",
    "q1 = df['MSRP'].quantile(0.25)\n",
    "q3 = df['MSRP'].quantile(0.75)\n",
    "iqr = q3 - q1"
   ]
  },
  {
   "cell_type": "code",
   "execution_count": 39,
   "id": "f54a695d",
   "metadata": {},
   "outputs": [],
   "source": [
    "# Identify the outlier values\n",
    "outliers = (df['MSRP'] < q1 - 1.5 * iqr) | (df['MSRP'] > q3 + 1.5 * iqr)"
   ]
  },
  {
   "cell_type": "code",
   "execution_count": 40,
   "id": "124534f7",
   "metadata": {},
   "outputs": [],
   "source": [
    "# Replace the outlier values with the mode value of the column\n",
    "mode_val = sp_mode(df['MSRP'])[0][0]\n",
    "df.loc[outliers, 'MSRP'] = mode_val"
   ]
  },
  {
   "cell_type": "code",
   "execution_count": 41,
   "id": "393a1d45",
   "metadata": {},
   "outputs": [
    {
     "data": {
      "text/html": [
       "<div>\n",
       "<style scoped>\n",
       "    .dataframe tbody tr th:only-of-type {\n",
       "        vertical-align: middle;\n",
       "    }\n",
       "\n",
       "    .dataframe tbody tr th {\n",
       "        vertical-align: top;\n",
       "    }\n",
       "\n",
       "    .dataframe thead th {\n",
       "        text-align: right;\n",
       "    }\n",
       "</style>\n",
       "<table border=\"1\" class=\"dataframe\">\n",
       "  <thead>\n",
       "    <tr style=\"text-align: right;\">\n",
       "      <th></th>\n",
       "      <th>ORDERNUMBER</th>\n",
       "      <th>QUANTITYORDERED</th>\n",
       "      <th>PRICEEACH</th>\n",
       "      <th>SALES</th>\n",
       "      <th>QTR_ID</th>\n",
       "      <th>MONTH_ID</th>\n",
       "      <th>YEAR_ID</th>\n",
       "      <th>PRODUCTLINE</th>\n",
       "      <th>MSRP</th>\n",
       "      <th>CUSTOMERNAME</th>\n",
       "      <th>CITY</th>\n",
       "      <th>COUNTRY</th>\n",
       "      <th>DEALSIZE</th>\n",
       "    </tr>\n",
       "  </thead>\n",
       "  <tbody>\n",
       "    <tr>\n",
       "      <th>0</th>\n",
       "      <td>10107</td>\n",
       "      <td>30</td>\n",
       "      <td>95.70</td>\n",
       "      <td>2871.00</td>\n",
       "      <td>1</td>\n",
       "      <td>2</td>\n",
       "      <td>2003</td>\n",
       "      <td>Motorcycles</td>\n",
       "      <td>95</td>\n",
       "      <td>Land of Toys Inc.</td>\n",
       "      <td>NYC</td>\n",
       "      <td>USA</td>\n",
       "      <td>Small</td>\n",
       "    </tr>\n",
       "    <tr>\n",
       "      <th>1</th>\n",
       "      <td>10121</td>\n",
       "      <td>34</td>\n",
       "      <td>81.35</td>\n",
       "      <td>2765.90</td>\n",
       "      <td>2</td>\n",
       "      <td>5</td>\n",
       "      <td>2003</td>\n",
       "      <td>Motorcycles</td>\n",
       "      <td>95</td>\n",
       "      <td>Reims Collectables</td>\n",
       "      <td>Reims</td>\n",
       "      <td>France</td>\n",
       "      <td>Small</td>\n",
       "    </tr>\n",
       "    <tr>\n",
       "      <th>2</th>\n",
       "      <td>10134</td>\n",
       "      <td>41</td>\n",
       "      <td>94.74</td>\n",
       "      <td>3884.34</td>\n",
       "      <td>3</td>\n",
       "      <td>7</td>\n",
       "      <td>2003</td>\n",
       "      <td>Motorcycles</td>\n",
       "      <td>95</td>\n",
       "      <td>Lyon Souveniers</td>\n",
       "      <td>Paris</td>\n",
       "      <td>France</td>\n",
       "      <td>Medium</td>\n",
       "    </tr>\n",
       "    <tr>\n",
       "      <th>3</th>\n",
       "      <td>10145</td>\n",
       "      <td>45</td>\n",
       "      <td>83.26</td>\n",
       "      <td>3746.70</td>\n",
       "      <td>3</td>\n",
       "      <td>8</td>\n",
       "      <td>2003</td>\n",
       "      <td>Motorcycles</td>\n",
       "      <td>95</td>\n",
       "      <td>Toys4GrownUps.com</td>\n",
       "      <td>Pasadena</td>\n",
       "      <td>USA</td>\n",
       "      <td>Medium</td>\n",
       "    </tr>\n",
       "    <tr>\n",
       "      <th>4</th>\n",
       "      <td>10159</td>\n",
       "      <td>49</td>\n",
       "      <td>100.00</td>\n",
       "      <td>5205.27</td>\n",
       "      <td>4</td>\n",
       "      <td>10</td>\n",
       "      <td>2003</td>\n",
       "      <td>Motorcycles</td>\n",
       "      <td>95</td>\n",
       "      <td>Corporate Gift Ideas Co.</td>\n",
       "      <td>San Francisco</td>\n",
       "      <td>USA</td>\n",
       "      <td>Medium</td>\n",
       "    </tr>\n",
       "  </tbody>\n",
       "</table>\n",
       "</div>"
      ],
      "text/plain": [
       "   ORDERNUMBER  QUANTITYORDERED  PRICEEACH    SALES  QTR_ID  MONTH_ID  \\\n",
       "0        10107               30      95.70  2871.00       1         2   \n",
       "1        10121               34      81.35  2765.90       2         5   \n",
       "2        10134               41      94.74  3884.34       3         7   \n",
       "3        10145               45      83.26  3746.70       3         8   \n",
       "4        10159               49     100.00  5205.27       4        10   \n",
       "\n",
       "   YEAR_ID  PRODUCTLINE  MSRP              CUSTOMERNAME           CITY  \\\n",
       "0     2003  Motorcycles    95         Land of Toys Inc.            NYC   \n",
       "1     2003  Motorcycles    95        Reims Collectables          Reims   \n",
       "2     2003  Motorcycles    95           Lyon Souveniers          Paris   \n",
       "3     2003  Motorcycles    95         Toys4GrownUps.com       Pasadena   \n",
       "4     2003  Motorcycles    95  Corporate Gift Ideas Co.  San Francisco   \n",
       "\n",
       "  COUNTRY DEALSIZE  \n",
       "0     USA    Small  \n",
       "1  France    Small  \n",
       "2  France   Medium  \n",
       "3     USA   Medium  \n",
       "4     USA   Medium  "
      ]
     },
     "execution_count": 41,
     "metadata": {},
     "output_type": "execute_result"
    }
   ],
   "source": [
    "df.head()"
   ]
  },
  {
   "cell_type": "markdown",
   "id": "ea36923b",
   "metadata": {},
   "source": [
    "# Correlation between features:"
   ]
  },
  {
   "cell_type": "code",
   "execution_count": 42,
   "id": "27845fd4",
   "metadata": {},
   "outputs": [
    {
     "data": {
      "text/html": [
       "<div>\n",
       "<style scoped>\n",
       "    .dataframe tbody tr th:only-of-type {\n",
       "        vertical-align: middle;\n",
       "    }\n",
       "\n",
       "    .dataframe tbody tr th {\n",
       "        vertical-align: top;\n",
       "    }\n",
       "\n",
       "    .dataframe thead th {\n",
       "        text-align: right;\n",
       "    }\n",
       "</style>\n",
       "<table border=\"1\" class=\"dataframe\">\n",
       "  <thead>\n",
       "    <tr style=\"text-align: right;\">\n",
       "      <th></th>\n",
       "      <th>ORDERNUMBER</th>\n",
       "      <th>QUANTITYORDERED</th>\n",
       "      <th>PRICEEACH</th>\n",
       "      <th>SALES</th>\n",
       "      <th>QTR_ID</th>\n",
       "      <th>MONTH_ID</th>\n",
       "      <th>YEAR_ID</th>\n",
       "      <th>MSRP</th>\n",
       "    </tr>\n",
       "  </thead>\n",
       "  <tbody>\n",
       "    <tr>\n",
       "      <th>ORDERNUMBER</th>\n",
       "      <td>1.000000</td>\n",
       "      <td>0.046040</td>\n",
       "      <td>-0.003128</td>\n",
       "      <td>0.011674</td>\n",
       "      <td>-0.051383</td>\n",
       "      <td>-0.039723</td>\n",
       "      <td>0.904596</td>\n",
       "      <td>-0.011131</td>\n",
       "    </tr>\n",
       "    <tr>\n",
       "      <th>QUANTITYORDERED</th>\n",
       "      <td>0.046040</td>\n",
       "      <td>1.000000</td>\n",
       "      <td>-0.002725</td>\n",
       "      <td>0.486240</td>\n",
       "      <td>-0.028327</td>\n",
       "      <td>-0.029599</td>\n",
       "      <td>0.048916</td>\n",
       "      <td>0.014278</td>\n",
       "    </tr>\n",
       "    <tr>\n",
       "      <th>PRICEEACH</th>\n",
       "      <td>-0.003128</td>\n",
       "      <td>-0.002725</td>\n",
       "      <td>1.000000</td>\n",
       "      <td>0.687216</td>\n",
       "      <td>0.008534</td>\n",
       "      <td>0.004973</td>\n",
       "      <td>-0.006075</td>\n",
       "      <td>0.678120</td>\n",
       "    </tr>\n",
       "    <tr>\n",
       "      <th>SALES</th>\n",
       "      <td>0.011674</td>\n",
       "      <td>0.486240</td>\n",
       "      <td>0.687216</td>\n",
       "      <td>1.000000</td>\n",
       "      <td>0.006103</td>\n",
       "      <td>0.005877</td>\n",
       "      <td>0.002911</td>\n",
       "      <td>0.583132</td>\n",
       "    </tr>\n",
       "    <tr>\n",
       "      <th>QTR_ID</th>\n",
       "      <td>-0.051383</td>\n",
       "      <td>-0.028327</td>\n",
       "      <td>0.008534</td>\n",
       "      <td>0.006103</td>\n",
       "      <td>1.000000</td>\n",
       "      <td>0.979300</td>\n",
       "      <td>-0.433052</td>\n",
       "      <td>0.010725</td>\n",
       "    </tr>\n",
       "    <tr>\n",
       "      <th>MONTH_ID</th>\n",
       "      <td>-0.039723</td>\n",
       "      <td>-0.029599</td>\n",
       "      <td>0.004973</td>\n",
       "      <td>0.005877</td>\n",
       "      <td>0.979300</td>\n",
       "      <td>1.000000</td>\n",
       "      <td>-0.430163</td>\n",
       "      <td>0.008167</td>\n",
       "    </tr>\n",
       "    <tr>\n",
       "      <th>YEAR_ID</th>\n",
       "      <td>0.904596</td>\n",
       "      <td>0.048916</td>\n",
       "      <td>-0.006075</td>\n",
       "      <td>0.002911</td>\n",
       "      <td>-0.433052</td>\n",
       "      <td>-0.430163</td>\n",
       "      <td>1.000000</td>\n",
       "      <td>-0.015123</td>\n",
       "    </tr>\n",
       "    <tr>\n",
       "      <th>MSRP</th>\n",
       "      <td>-0.011131</td>\n",
       "      <td>0.014278</td>\n",
       "      <td>0.678120</td>\n",
       "      <td>0.583132</td>\n",
       "      <td>0.010725</td>\n",
       "      <td>0.008167</td>\n",
       "      <td>-0.015123</td>\n",
       "      <td>1.000000</td>\n",
       "    </tr>\n",
       "  </tbody>\n",
       "</table>\n",
       "</div>"
      ],
      "text/plain": [
       "                 ORDERNUMBER  QUANTITYORDERED  PRICEEACH     SALES    QTR_ID  \\\n",
       "ORDERNUMBER         1.000000         0.046040  -0.003128  0.011674 -0.051383   \n",
       "QUANTITYORDERED     0.046040         1.000000  -0.002725  0.486240 -0.028327   \n",
       "PRICEEACH          -0.003128        -0.002725   1.000000  0.687216  0.008534   \n",
       "SALES               0.011674         0.486240   0.687216  1.000000  0.006103   \n",
       "QTR_ID             -0.051383        -0.028327   0.008534  0.006103  1.000000   \n",
       "MONTH_ID           -0.039723        -0.029599   0.004973  0.005877  0.979300   \n",
       "YEAR_ID             0.904596         0.048916  -0.006075  0.002911 -0.433052   \n",
       "MSRP               -0.011131         0.014278   0.678120  0.583132  0.010725   \n",
       "\n",
       "                 MONTH_ID   YEAR_ID      MSRP  \n",
       "ORDERNUMBER     -0.039723  0.904596 -0.011131  \n",
       "QUANTITYORDERED -0.029599  0.048916  0.014278  \n",
       "PRICEEACH        0.004973 -0.006075  0.678120  \n",
       "SALES            0.005877  0.002911  0.583132  \n",
       "QTR_ID           0.979300 -0.433052  0.010725  \n",
       "MONTH_ID         1.000000 -0.430163  0.008167  \n",
       "YEAR_ID         -0.430163  1.000000 -0.015123  \n",
       "MSRP             0.008167 -0.015123  1.000000  "
      ]
     },
     "execution_count": 42,
     "metadata": {},
     "output_type": "execute_result"
    }
   ],
   "source": [
    "df.corr()"
   ]
  },
  {
   "cell_type": "code",
   "execution_count": 43,
   "id": "cfaa91ac",
   "metadata": {},
   "outputs": [
    {
     "data": {
      "text/plain": [
       "<AxesSubplot:>"
      ]
     },
     "execution_count": 43,
     "metadata": {},
     "output_type": "execute_result"
    },
    {
     "data": {
      "image/png": "[encoded data removed]",
      "text/plain": [
       "<Figure size 640x480 with 2 Axes>"
      ]
     },
     "metadata": {},
     "output_type": "display_data"
    }
   ],
   "source": [
    "sns.heatmap(df.corr(),cmap='coolwarm')"
   ]
  },
  {
   "cell_type": "markdown",
   "id": "e5a2fa28",
   "metadata": {},
   "source": [
    "From the above correlation matrix and heat-map that is based on the correlation matrix can be identify the linear relationship (both magnitude and direction) between the features. But it unable  to capture any nonlinear relationship between them. Additionally, correlation does not imply causation, so it is important to interpret correlation coefficients with caution and consider other factors that may be influencing the relationship between variables."
   ]
  },
  {
   "cell_type": "code",
   "execution_count": 44,
   "id": "fc70f67e",
   "metadata": {},
   "outputs": [
    {
     "data": {
      "text/html": [
       "<div>\n",
       "<style scoped>\n",
       "    .dataframe tbody tr th:only-of-type {\n",
       "        vertical-align: middle;\n",
       "    }\n",
       "\n",
       "    .dataframe tbody tr th {\n",
       "        vertical-align: top;\n",
       "    }\n",
       "\n",
       "    .dataframe thead th {\n",
       "        text-align: right;\n",
       "    }\n",
       "</style>\n",
       "<table border=\"1\" class=\"dataframe\">\n",
       "  <thead>\n",
       "    <tr style=\"text-align: right;\">\n",
       "      <th></th>\n",
       "      <th>ORDERNUMBER</th>\n",
       "      <th>QUANTITYORDERED</th>\n",
       "      <th>PRICEEACH</th>\n",
       "      <th>SALES</th>\n",
       "      <th>QTR_ID</th>\n",
       "      <th>MONTH_ID</th>\n",
       "      <th>YEAR_ID</th>\n",
       "      <th>PRODUCTLINE</th>\n",
       "      <th>MSRP</th>\n",
       "      <th>CUSTOMERNAME</th>\n",
       "      <th>CITY</th>\n",
       "      <th>COUNTRY</th>\n",
       "      <th>DEALSIZE</th>\n",
       "    </tr>\n",
       "  </thead>\n",
       "  <tbody>\n",
       "    <tr>\n",
       "      <th>0</th>\n",
       "      <td>10107</td>\n",
       "      <td>30</td>\n",
       "      <td>95.70</td>\n",
       "      <td>2871.00</td>\n",
       "      <td>1</td>\n",
       "      <td>2</td>\n",
       "      <td>2003</td>\n",
       "      <td>Motorcycles</td>\n",
       "      <td>95</td>\n",
       "      <td>Land of Toys Inc.</td>\n",
       "      <td>NYC</td>\n",
       "      <td>USA</td>\n",
       "      <td>Small</td>\n",
       "    </tr>\n",
       "    <tr>\n",
       "      <th>1</th>\n",
       "      <td>10121</td>\n",
       "      <td>34</td>\n",
       "      <td>81.35</td>\n",
       "      <td>2765.90</td>\n",
       "      <td>2</td>\n",
       "      <td>5</td>\n",
       "      <td>2003</td>\n",
       "      <td>Motorcycles</td>\n",
       "      <td>95</td>\n",
       "      <td>Reims Collectables</td>\n",
       "      <td>Reims</td>\n",
       "      <td>France</td>\n",
       "      <td>Small</td>\n",
       "    </tr>\n",
       "    <tr>\n",
       "      <th>2</th>\n",
       "      <td>10134</td>\n",
       "      <td>41</td>\n",
       "      <td>94.74</td>\n",
       "      <td>3884.34</td>\n",
       "      <td>3</td>\n",
       "      <td>7</td>\n",
       "      <td>2003</td>\n",
       "      <td>Motorcycles</td>\n",
       "      <td>95</td>\n",
       "      <td>Lyon Souveniers</td>\n",
       "      <td>Paris</td>\n",
       "      <td>France</td>\n",
       "      <td>Medium</td>\n",
       "    </tr>\n",
       "    <tr>\n",
       "      <th>3</th>\n",
       "      <td>10145</td>\n",
       "      <td>45</td>\n",
       "      <td>83.26</td>\n",
       "      <td>3746.70</td>\n",
       "      <td>3</td>\n",
       "      <td>8</td>\n",
       "      <td>2003</td>\n",
       "      <td>Motorcycles</td>\n",
       "      <td>95</td>\n",
       "      <td>Toys4GrownUps.com</td>\n",
       "      <td>Pasadena</td>\n",
       "      <td>USA</td>\n",
       "      <td>Medium</td>\n",
       "    </tr>\n",
       "    <tr>\n",
       "      <th>4</th>\n",
       "      <td>10159</td>\n",
       "      <td>49</td>\n",
       "      <td>100.00</td>\n",
       "      <td>5205.27</td>\n",
       "      <td>4</td>\n",
       "      <td>10</td>\n",
       "      <td>2003</td>\n",
       "      <td>Motorcycles</td>\n",
       "      <td>95</td>\n",
       "      <td>Corporate Gift Ideas Co.</td>\n",
       "      <td>San Francisco</td>\n",
       "      <td>USA</td>\n",
       "      <td>Medium</td>\n",
       "    </tr>\n",
       "  </tbody>\n",
       "</table>\n",
       "</div>"
      ],
      "text/plain": [
       "   ORDERNUMBER  QUANTITYORDERED  PRICEEACH    SALES  QTR_ID  MONTH_ID  \\\n",
       "0        10107               30      95.70  2871.00       1         2   \n",
       "1        10121               34      81.35  2765.90       2         5   \n",
       "2        10134               41      94.74  3884.34       3         7   \n",
       "3        10145               45      83.26  3746.70       3         8   \n",
       "4        10159               49     100.00  5205.27       4        10   \n",
       "\n",
       "   YEAR_ID  PRODUCTLINE  MSRP              CUSTOMERNAME           CITY  \\\n",
       "0     2003  Motorcycles    95         Land of Toys Inc.            NYC   \n",
       "1     2003  Motorcycles    95        Reims Collectables          Reims   \n",
       "2     2003  Motorcycles    95           Lyon Souveniers          Paris   \n",
       "3     2003  Motorcycles    95         Toys4GrownUps.com       Pasadena   \n",
       "4     2003  Motorcycles    95  Corporate Gift Ideas Co.  San Francisco   \n",
       "\n",
       "  COUNTRY DEALSIZE  \n",
       "0     USA    Small  \n",
       "1  France    Small  \n",
       "2  France   Medium  \n",
       "3     USA   Medium  \n",
       "4     USA   Medium  "
      ]
     },
     "execution_count": 44,
     "metadata": {},
     "output_type": "execute_result"
    }
   ],
   "source": [
    "df.head()"
   ]
  },
  {
   "cell_type": "markdown",
   "id": "bcd4ec5f",
   "metadata": {},
   "source": [
    "#  Q1. What is yearly sales?"
   ]
  },
  {
   "cell_type": "code",
   "execution_count": 45,
   "id": "757f4daf",
   "metadata": {},
   "outputs": [
    {
     "data": {
      "text/plain": [
       "array([2003, 2004, 2005], dtype=int64)"
      ]
     },
     "execution_count": 45,
     "metadata": {},
     "output_type": "execute_result"
    }
   ],
   "source": [
    "df['YEAR_ID'].unique()"
   ]
  },
  {
   "cell_type": "code",
   "execution_count": 46,
   "id": "79f062c3",
   "metadata": {},
   "outputs": [
    {
     "data": {
      "text/plain": [
       "array([3374124.7       , 4537899.11999999, 1620422.22      ])"
      ]
     },
     "execution_count": 46,
     "metadata": {},
     "output_type": "execute_result"
    }
   ],
   "source": [
    "yearly_sales = df.groupby(['YEAR_ID'])['SALES'].sum().values\n",
    "yearly_sales"
   ]
  },
  {
   "cell_type": "code",
   "execution_count": 47,
   "id": "e34d6bef",
   "metadata": {},
   "outputs": [
    {
     "data": {
      "text/plain": [
       "array([2003, 2004, 2005], dtype=int64)"
      ]
     },
     "execution_count": 47,
     "metadata": {},
     "output_type": "execute_result"
    }
   ],
   "source": [
    "year=df['YEAR_ID'].unique()\n",
    "year"
   ]
  },
  {
   "cell_type": "code",
   "execution_count": 48,
   "id": "42b78dd6",
   "metadata": {},
   "outputs": [
    {
     "data": {
      "text/plain": [
       "([<matplotlib.patches.Wedge at 0x1e59b17fef0>,\n",
       "  <matplotlib.patches.Wedge at 0x1e59b18b630>,\n",
       "  <matplotlib.patches.Wedge at 0x1e59b18bda0>],\n",
       " [Text(0.48715141397099604, 0.9862471799027156, '2003'),\n",
       "  Text(-0.9213338206742466, -0.600952569577496, '2004'),\n",
       "  Text(0.9468335004380504, -0.5599163530816265, '2005')],\n",
       " [Text(0.2657189530750887, 0.537953007219663, '35.40%'),\n",
       "  Text(-0.5025457203677709, -0.3277923106786342, '47.60%'),\n",
       "  Text(0.5164546366025728, -0.3054089198627053, '17.00%')])"
      ]
     },
     "execution_count": 48,
     "metadata": {},
     "output_type": "execute_result"
    },
    {
     "data": {
      "image/png": "[encoded data removed]",
      "text/plain": [
       "<Figure size 640x480 with 1 Axes>"
      ]
     },
     "metadata": {},
     "output_type": "display_data"
    }
   ],
   "source": [
    "#sales parcentage on different year\n",
    "plt.pie(yearly_sales,labels=year,autopct='%1.2f%%')"
   ]
  },
  {
   "cell_type": "code",
   "execution_count": 49,
   "id": "1f820f7a",
   "metadata": {},
   "outputs": [
    {
     "data": {
      "text/plain": [
       "Text(0.5, 1.0, 'Total sales')"
      ]
     },
     "execution_count": 49,
     "metadata": {},
     "output_type": "execute_result"
    },
    {
     "data": {
      "image/png": "[encoded data removed]",
      "text/plain": [
       "<Figure size 640x480 with 1 Axes>"
      ]
     },
     "metadata": {},
     "output_type": "display_data"
    }
   ],
   "source": [
    "#Total sales on different year\n",
    "plt.bar(year, yearly_sales)\n",
    "plt.xlabel('Year')\n",
    "plt.ylabel('Yearly_sales')\n",
    "plt.title('Total sales')"
   ]
  },
  {
   "cell_type": "code",
   "execution_count": 50,
   "id": "a31d10fa",
   "metadata": {},
   "outputs": [
    {
     "data": {
      "text/plain": [
       "3177482.013333332"
      ]
     },
     "execution_count": 50,
     "metadata": {},
     "output_type": "execute_result"
    }
   ],
   "source": [
    "import statistics\n",
    "avg_sales=statistics.mean(yearly_sales)\n",
    "avg_sales"
   ]
  },
  {
   "cell_type": "markdown",
   "id": "aa40b78a",
   "metadata": {},
   "source": [
    "# Observation:\n",
    "\n",
    "1. Highest sales was done on the year 2004.\n",
    "2. Lowest sales was done on the year 2005.\n",
    "3. Avarage sales is 3175405."
   ]
  },
  {
   "cell_type": "markdown",
   "id": "aceb2eb4",
   "metadata": {},
   "source": [
    "# Q2. What is monthly sales in each year?"
   ]
  },
  {
   "cell_type": "code",
   "execution_count": 51,
   "id": "56116746",
   "metadata": {},
   "outputs": [
    {
     "data": {
      "text/plain": [
       "array([ 2,  5,  7,  8, 10, 11, 12,  1,  4,  6,  9,  3], dtype=int64)"
      ]
     },
     "execution_count": 51,
     "metadata": {},
     "output_type": "execute_result"
    }
   ],
   "source": [
    "df['MONTH_ID'].unique()"
   ]
  },
  {
   "cell_type": "code",
   "execution_count": 52,
   "id": "0fcb355e",
   "metadata": {},
   "outputs": [
    {
     "data": {
      "text/plain": [
       "YEAR_ID  MONTH_ID\n",
       "2003     1            129753.60\n",
       "         2            135148.83\n",
       "         3            169250.90\n",
       "         4            190141.25\n",
       "         5            187955.54\n",
       "         6            154670.60\n",
       "         7            177397.71\n",
       "         8            180984.27\n",
       "         9            249740.10\n",
       "         10           551654.41\n",
       "         11          1001963.85\n",
       "         12           245463.64\n",
       "2004     1            304446.00\n",
       "         2            293947.86\n",
       "         3            200358.15\n",
       "         4            206148.12\n",
       "         5            260677.89\n",
       "         6            281340.28\n",
       "         7            309396.71\n",
       "         8            449861.45\n",
       "         9            304823.01\n",
       "         10           520107.09\n",
       "         11          1040706.90\n",
       "         12           366085.66\n",
       "2005     1            321957.04\n",
       "         2            339965.28\n",
       "         3            355883.40\n",
       "         4            196460.31\n",
       "         5            406156.19\n",
       "Name: SALES, dtype: float64"
      ]
     },
     "execution_count": 52,
     "metadata": {},
     "output_type": "execute_result"
    }
   ],
   "source": [
    "monthly_sales = df.groupby(['YEAR_ID','MONTH_ID'])['SALES'].sum()\n",
    "monthly_sales"
   ]
  },
  {
   "cell_type": "code",
   "execution_count": 53,
   "id": "b7164f5c",
   "metadata": {},
   "outputs": [],
   "source": [
    "# Create a new DataFrame with the monthly sales for each year\n",
    "sales_by_year = pd.DataFrame({'2003': monthly_sales.loc[2003], \n",
    "                              '2004': monthly_sales.loc[2004], \n",
    "                              '2005': monthly_sales.loc[2005]})"
   ]
  },
  {
   "cell_type": "code",
   "execution_count": 54,
   "id": "83de2112",
   "metadata": {},
   "outputs": [
    {
     "data": {
      "text/plain": [
       "Text(0.5, 1.0, 'Monthly Sales by Year')"
      ]
     },
     "execution_count": 54,
     "metadata": {},
     "output_type": "execute_result"
    },
    {
     "data": {
      "image/png": "[encoded data removed]",
      "text/plain": [
       "<Figure size 1000x600 with 1 Axes>"
      ]
     },
     "metadata": {},
     "output_type": "display_data"
    }
   ],
   "source": [
    "# Plot the monthly sales for each year\n",
    "sales_by_year.plot(kind='bar', figsize=(10, 6))\n",
    "plt.xlabel('Month')\n",
    "plt.ylabel('Sales')\n",
    "plt.title('Monthly Sales by Year')"
   ]
  },
  {
   "cell_type": "markdown",
   "id": "b20512c7",
   "metadata": {},
   "source": [
    "# Observation:\n",
    "\n",
    "1. Year 2005 has only 5 month’s sales data, up to the month of May.\n",
    "2. In 2004, month of November had the highest amount of monthly sales and March had the least.\n",
    "3. In 2003, month of November had the highest amount of monthly sales and January had the least.\n",
    "4. Overall highest amount of monthly sales was done on November, 2004 and least amount was on January, 2003."
   ]
  },
  {
   "cell_type": "markdown",
   "id": "3f7e1f9e",
   "metadata": {},
   "source": [
    "# Q3. Quarterly Sales Data"
   ]
  },
  {
   "cell_type": "code",
   "execution_count": 55,
   "id": "d3303ad9",
   "metadata": {},
   "outputs": [
    {
     "data": {
      "text/plain": [
       "array([1, 2, 3, 4], dtype=int64)"
      ]
     },
     "execution_count": 55,
     "metadata": {},
     "output_type": "execute_result"
    }
   ],
   "source": [
    "df['QTR_ID'].unique()"
   ]
  },
  {
   "cell_type": "code",
   "execution_count": 56,
   "id": "3b4e1a11",
   "metadata": {},
   "outputs": [
    {
     "data": {
      "text/plain": [
       "YEAR_ID  QTR_ID\n",
       "2003     1          434153.33\n",
       "         2          532767.39\n",
       "         3          608122.08\n",
       "         4         1799081.90\n",
       "2004     1          798752.01\n",
       "         2          748166.29\n",
       "         3         1064081.17\n",
       "         4         1926899.65\n",
       "2005     1         1017805.72\n",
       "         2          602616.50\n",
       "Name: SALES, dtype: float64"
      ]
     },
     "execution_count": 56,
     "metadata": {},
     "output_type": "execute_result"
    }
   ],
   "source": [
    "quterly_sales = df.groupby(['YEAR_ID','QTR_ID'])['SALES'].sum()\n",
    "quterly_sales"
   ]
  },
  {
   "cell_type": "code",
   "execution_count": 57,
   "id": "052b0e51",
   "metadata": {},
   "outputs": [],
   "source": [
    "# Create a new DataFrame with the quarterly sales for each year\n",
    "sales_by_year = pd.DataFrame({'2003': quterly_sales.loc[2003], \n",
    "                              '2004': quterly_sales.loc[2004], \n",
    "                              '2005': quterly_sales.loc[2005]})"
   ]
  },
  {
   "cell_type": "code",
   "execution_count": 58,
   "id": "49cc593a",
   "metadata": {},
   "outputs": [
    {
     "data": {
      "text/plain": [
       "Text(0.5, 1.0, 'Quarterly Sales by Year')"
      ]
     },
     "execution_count": 58,
     "metadata": {},
     "output_type": "execute_result"
    },
    {
     "data": {
      "image/png": "[encoded data removed]",
      "text/plain": [
       "<Figure size 1000x600 with 1 Axes>"
      ]
     },
     "metadata": {},
     "output_type": "display_data"
    }
   ],
   "source": [
    "# Plot the quaterly sales for each year as a line plot\n",
    "sales_by_year.plot(kind='line', figsize=(10, 6))\n",
    "plt.xlabel('QUARTER')\n",
    "plt.ylabel('Sales')\n",
    "plt.title('Quarterly Sales by Year')"
   ]
  },
  {
   "cell_type": "markdown",
   "id": "5d213a7a",
   "metadata": {},
   "source": [
    "# Observation:\n",
    "\n",
    "1. In 2003, quarterly sales was increasing gradually, but after 3rd quarter rate was very high.\n",
    "2. In 2004, initially from 1st to 2nd quarter the amount of sales was decreasing in nature, but after 2nd it was increasing rapidly.\n",
    "3. For 2005, only 5 months data was given, so we did not get two full quarter for comparison.\n",
    "4. In every quarter the quarterly sale amount in the year 2004 was more compare to 2003.\n",
    "5. For 2005, the sale amount for the 2nd quarter was lesser than 1st quarter because of lack of data."
   ]
  },
  {
   "cell_type": "markdown",
   "id": "720c5b0d",
   "metadata": {},
   "source": [
    "# PRODUCT Sales Data:"
   ]
  },
  {
   "cell_type": "code",
   "execution_count": 59,
   "id": "9fcdbbaa",
   "metadata": {},
   "outputs": [
    {
     "data": {
      "text/plain": [
       "array([35, 40, 49, 54, 58, 54, 33], dtype=int64)"
      ]
     },
     "execution_count": 59,
     "metadata": {},
     "output_type": "execute_result"
    }
   ],
   "source": [
    "price = df.groupby(['PRODUCTLINE'])['MSRP'].min().values #Manufacture's suggested retail price\n",
    "price"
   ]
  },
  {
   "cell_type": "code",
   "execution_count": 60,
   "id": "07bb4f92",
   "metadata": {},
   "outputs": [
    {
     "data": {
      "text/plain": [
       "array([3643672.3 , 1081068.19,  955746.07,  714437.13,  220269.42,\n",
       "       1097790.78, 1819462.15])"
      ]
     },
     "execution_count": 60,
     "metadata": {},
     "output_type": "execute_result"
    }
   ],
   "source": [
    "#Which product sale most\n",
    "max_product=df.groupby(df['PRODUCTLINE'])['SALES'].sum().values\n",
    "max_product"
   ]
  },
  {
   "cell_type": "code",
   "execution_count": 61,
   "id": "fccc822a",
   "metadata": {},
   "outputs": [
    {
     "data": {
      "text/plain": [
       "Index(['Classic Cars', 'Motorcycles', 'Planes', 'Ships', 'Trains',\n",
       "       'Trucks and Buses', 'Vintage Cars'],\n",
       "      dtype='object', name='PRODUCTLINE')"
      ]
     },
     "execution_count": 61,
     "metadata": {},
     "output_type": "execute_result"
    }
   ],
   "source": [
    "max_product_index=df.groupby(df['PRODUCTLINE'])['SALES'].sum().index\n",
    "max_product_index"
   ]
  },
  {
   "cell_type": "code",
   "execution_count": 62,
   "id": "71045e8a",
   "metadata": {},
   "outputs": [
    {
     "data": {
      "text/plain": [
       "Text(0, 0.5, 'No. of Product Sale')"
      ]
     },
     "execution_count": 62,
     "metadata": {},
     "output_type": "execute_result"
    },
    {
     "data": {
      "image/png": "[encoded data removed]",
      "text/plain": [
       "<Figure size 1200x600 with 1 Axes>"
      ]
     },
     "metadata": {},
     "output_type": "display_data"
    }
   ],
   "source": [
    "import matplotlib\n",
    "matplotlib.rcParams['figure.figsize']=(12,6)\n",
    "colors=['red', 'green', 'blue','yellow','green','pink','orange']\n",
    "plt.bar(max_product_index, max_product, color=colors)\n",
    "plt.title('No. of Product Sale vs PRODUCTLINE')\n",
    "plt.xlabel('PRODUCTLINE')\n",
    "plt.ylabel('No. of Product Sale')"
   ]
  },
  {
   "cell_type": "code",
   "execution_count": 63,
   "id": "438e5170",
   "metadata": {},
   "outputs": [
    {
     "data": {
      "text/plain": [
       "Text(0, 0.5, 'MSRP')"
      ]
     },
     "execution_count": 63,
     "metadata": {},
     "output_type": "execute_result"
    },
    {
     "data": {
      "image/png": "[encoded data removed]",
      "text/plain": [
       "<Figure size 1200x600 with 1 Axes>"
      ]
     },
     "metadata": {},
     "output_type": "display_data"
    }
   ],
   "source": [
    "matplotlib.rcParams['figure.figsize']=(12,6)\n",
    "colors=['red', 'green', 'blue','yellow','orange','pink','green']\n",
    "plt.bar(max_product_index, price, color=colors)\n",
    "plt.title('MSRP vs PRODUCTLINE')\n",
    "plt.xlabel('PRODUCTLINE')\n",
    "plt.ylabel('MSRP')"
   ]
  },
  {
   "cell_type": "markdown",
   "id": "3746bf1f",
   "metadata": {},
   "source": [
    "# Observation:\n",
    "\n",
    "1. Classical car was the product that was sold maximum, the least price might be the reason behind this.\n",
    "2. Train was sold the least number, the highest price might be the reason for this."
   ]
  },
  {
   "cell_type": "code",
   "execution_count": 64,
   "id": "fd323473",
   "metadata": {},
   "outputs": [
    {
     "data": {
      "text/plain": [
       "YEAR_ID  PRODUCTLINE     \n",
       "2003     Classic Cars        1374911.17\n",
       "         Motorcycles          337351.43\n",
       "         Planes               272257.60\n",
       "         Ships                244821.09\n",
       "         Trains                72802.29\n",
       "         Trucks and Buses     420993.36\n",
       "         Vintage Cars         650987.76\n",
       "2004     Classic Cars        1676031.94\n",
       "         Motorcycles          529513.63\n",
       "         Planes               497514.50\n",
       "         Ships                341437.97\n",
       "         Trains               116523.85\n",
       "         Trucks and Buses     514668.90\n",
       "         Vintage Cars         862208.33\n",
       "2005     Classic Cars         592729.19\n",
       "         Motorcycles          214203.13\n",
       "         Planes               185973.97\n",
       "         Ships                128178.07\n",
       "         Trains                30943.28\n",
       "         Trucks and Buses     162128.52\n",
       "         Vintage Cars         306266.06\n",
       "Name: SALES, dtype: float64"
      ]
     },
     "execution_count": 64,
     "metadata": {},
     "output_type": "execute_result"
    }
   ],
   "source": [
    "#Yearly Product Salse Data\n",
    "Yearly_product = df.groupby(['YEAR_ID','PRODUCTLINE'])['SALES'].sum()\n",
    "Yearly_product"
   ]
  },
  {
   "cell_type": "code",
   "execution_count": 65,
   "id": "ee612533",
   "metadata": {},
   "outputs": [],
   "source": [
    "# Create a new DataFrame with the yearly sales for each product\n",
    "sales_by_year = pd.DataFrame({'2003': Yearly_product.loc[2003], \n",
    "                              '2004': Yearly_product.loc[2004], \n",
    "                              '2005': Yearly_product.loc[2005]})"
   ]
  },
  {
   "cell_type": "code",
   "execution_count": 66,
   "id": "9c49b831",
   "metadata": {},
   "outputs": [
    {
     "data": {
      "text/plain": [
       "Text(0.5, 1.0, 'Products Sales by Year')"
      ]
     },
     "execution_count": 66,
     "metadata": {},
     "output_type": "execute_result"
    },
    {
     "data": {
      "image/png": "[encoded data removed]",
      "text/plain": [
       "<Figure size 1000x600 with 1 Axes>"
      ]
     },
     "metadata": {},
     "output_type": "display_data"
    }
   ],
   "source": [
    "sales_by_year.plot(kind='bar', figsize=(10, 6))\n",
    "plt.xlabel('Product')\n",
    "plt.ylabel('Sales')\n",
    "plt.title('Products Sales by Year')"
   ]
  },
  {
   "cell_type": "code",
   "execution_count": 67,
   "id": "3b6e494b",
   "metadata": {},
   "outputs": [
    {
     "name": "stdout",
     "output_type": "stream",
     "text": [
      "         PRODUCTLINE  QTR_ID  Total\n",
      "0       Classic Cars       1    217\n",
      "1       Classic Cars       2    175\n",
      "2       Classic Cars       3    184\n",
      "3       Classic Cars       4    394\n",
      "4        Motorcycles       1     76\n",
      "5        Motorcycles       2     74\n",
      "6        Motorcycles       3     63\n",
      "7        Motorcycles       4    116\n",
      "8             Planes       1     72\n",
      "9             Planes       2     80\n",
      "10            Planes       3     48\n",
      "11            Planes       4    106\n",
      "12             Ships       1     61\n",
      "13             Ships       2     46\n",
      "14             Ships       3     42\n",
      "15             Ships       4     85\n",
      "16            Trains       1     20\n",
      "17            Trains       2     12\n",
      "18            Trains       3     15\n",
      "19            Trains       4     30\n",
      "20  Trucks and Buses       1     62\n",
      "21  Trucks and Buses       2     63\n",
      "22  Trucks and Buses       3     55\n",
      "23  Trucks and Buses       4    120\n",
      "24      Vintage Cars       1    157\n",
      "25      Vintage Cars       2    111\n",
      "26      Vintage Cars       3     96\n",
      "27      Vintage Cars       4    243\n"
     ]
    }
   ],
   "source": [
    "qtr_total_sale = df.groupby(['PRODUCTLINE', 'QTR_ID']).size().reset_index(name='Total')\n",
    "print(qtr_total_sale)"
   ]
  },
  {
   "cell_type": "code",
   "execution_count": 68,
   "id": "79628c08",
   "metadata": {},
   "outputs": [
    {
     "data": {
      "text/plain": [
       "Text(0.5, 1.0, 'Quarterly Sales by Product Line')"
      ]
     },
     "execution_count": 68,
     "metadata": {},
     "output_type": "execute_result"
    },
    {
     "data": {
      "image/png": "[encoded data removed]",
      "text/plain": [
       "<Figure size 1000x600 with 1 Axes>"
      ]
     },
     "metadata": {},
     "output_type": "display_data"
    }
   ],
   "source": [
    "# Reshape the data using pivot\n",
    "qtr_total_sale_pivot = qtr_total_sale.pivot(index='PRODUCTLINE', columns='QTR_ID', values='Total')\n",
    "\n",
    "# Create a bar plot of the quarterly sales by product line\n",
    "qtr_total_sale_pivot.plot(kind='bar', figsize=(10, 6))\n",
    "\n",
    "# Add x-label, y-label, and title\n",
    "plt.xlabel('Product Line')\n",
    "plt.ylabel('Total Sales')\n",
    "plt.title('Quarterly Sales by Product Line')"
   ]
  },
  {
   "cell_type": "markdown",
   "id": "83c86bf8",
   "metadata": {},
   "source": [
    "# Observation:¶\n",
    "\n",
    "1. Fourth quarter sale highest number of products in every year.\n",
    "   Classic Car was the top sale product in every quarter.\n",
    "\n"
   ]
  }
 ],
 "metadata": {
  "kernelspec": {
   "display_name": "Python 3 (ipykernel)",
   "language": "python",
   "name": "python3"
  },
  "language_info": {
   "codemirror_mode": {
    "name": "ipython",
    "version": 3
   },
   "file_extension": ".py",
   "mimetype": "text/x-python",
   "name": "python",
   "nbconvert_exporter": "python",
   "pygments_lexer": "ipython3",
   "version": "3.7.0"
  }
 },
 "nbformat": 4,
 "nbformat_minor": 5
}
